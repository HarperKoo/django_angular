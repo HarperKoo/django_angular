{
 "cells": [
  {
   "cell_type": "code",
   "execution_count": 23,
   "metadata": {},
   "outputs": [],
   "source": [
    "import pandas as pd\n",
    "import json\n",
    "import numpy as np\n",
    "\n",
    "df = pd.read_csv('summary.csv',skiprows=[0],names=['ID','DESC','CNTR','11t','5t','1t','CNTR_gross_fr','11t_gross_fr','5t_gross_fr','1t_gross_fr','CNTR_net_fr','11t_net_fr','5t_net_fr','1t_net_fr'])\n",
    "df = df.replace('null',np.nan)"
   ]
  },
  {
   "cell_type": "code",
   "execution_count": 24,
   "metadata": {},
   "outputs": [
    {
     "data": {
      "text/plain": [
       "[{'11t': 4362,\n",
       "  '11t_gross_fr': 0.8,\n",
       "  '11t_net_fr': '0.8',\n",
       "  '1t': 62,\n",
       "  '1t_gross_fr': '0.8',\n",
       "  '1t_net_fr': 0.8,\n",
       "  '5t': 0,\n",
       "  '5t_gross_fr': '0.8',\n",
       "  '5t_net_fr': '0.8',\n",
       "  'CNTR': 4462,\n",
       "  'CNTR_gross_fr': 38,\n",
       "  'CNTR_net_fr': 0.8},\n",
       " {'11t': 4442,\n",
       "  '11t_gross_fr': 0.8,\n",
       "  '11t_net_fr': nan,\n",
       "  '1t': 0,\n",
       "  '1t_gross_fr': '0.8',\n",
       "  '1t_net_fr': 0.8,\n",
       "  '5t': 0,\n",
       "  '5t_gross_fr': nan,\n",
       "  '5t_net_fr': '0.8',\n",
       "  'CNTR': 4442,\n",
       "  'CNTR_gross_fr': 0,\n",
       "  'CNTR_net_fr': 0.8},\n",
       " {'11t': 4650,\n",
       "  '11t_gross_fr': 0.8,\n",
       "  '11t_net_fr': '0.8',\n",
       "  '1t': 0,\n",
       "  '1t_gross_fr': '0.8',\n",
       "  '1t_net_fr': 0.8,\n",
       "  '5t': 0,\n",
       "  '5t_gross_fr': '0.8',\n",
       "  '5t_net_fr': '0.8',\n",
       "  'CNTR': 4650,\n",
       "  'CNTR_gross_fr': 0,\n",
       "  'CNTR_net_fr': 0.8},\n",
       " {'11t': 3623,\n",
       "  '11t_gross_fr': 0.8,\n",
       "  '11t_net_fr': '0.8',\n",
       "  '1t': 413,\n",
       "  '1t_gross_fr': nan,\n",
       "  '1t_net_fr': 0.8,\n",
       "  '5t': 0,\n",
       "  '5t_gross_fr': '0.8',\n",
       "  '5t_net_fr': nan,\n",
       "  'CNTR': 4609,\n",
       "  'CNTR_gross_fr': 573,\n",
       "  'CNTR_net_fr': 0.8},\n",
       " {'11t': 2123,\n",
       "  '11t_gross_fr': 0.8,\n",
       "  '11t_net_fr': '0.8',\n",
       "  '1t': 432,\n",
       "  '1t_gross_fr': '0.8',\n",
       "  '1t_net_fr': 0.8,\n",
       "  '5t': 0,\n",
       "  '5t_gross_fr': '0.8',\n",
       "  '5t_net_fr': '0.8',\n",
       "  'CNTR': 3077,\n",
       "  'CNTR_gross_fr': 522,\n",
       "  'CNTR_net_fr': 0.8}]"
      ]
     },
     "execution_count": 24,
     "metadata": {},
     "output_type": "execute_result"
    }
   ],
   "source": [
    "# df.to_json(orient='records')\n",
    "df.to_dict(orient='records')"
   ]
  },
  {
   "cell_type": "code",
   "execution_count": null,
   "metadata": {
    "collapsed": true
   },
   "outputs": [],
   "source": []
  }
 ],
 "metadata": {
  "kernelspec": {
   "display_name": "Python 3",
   "language": "python",
   "name": "python3"
  },
  "language_info": {
   "codemirror_mode": {
    "name": "ipython",
    "version": 3
   },
   "file_extension": ".py",
   "mimetype": "text/x-python",
   "name": "python",
   "nbconvert_exporter": "python",
   "pygments_lexer": "ipython3",
   "version": "3.6.1"
  }
 },
 "nbformat": 4,
 "nbformat_minor": 2
}
